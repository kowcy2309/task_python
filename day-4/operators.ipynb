{
 "cells": [
  {
   "cell_type": "code",
   "execution_count": 2,
   "metadata": {},
   "outputs": [
    {
     "name": "stdout",
     "output_type": "stream",
     "text": [
      "good\n"
     ]
    }
   ],
   "source": [
    "marks=int(input('Enter the nos:'))\n",
    "if marks==100:\n",
    "    print(\"excelllent\")\n",
    "else:\n",
    "    print(\"good\")"
   ]
  },
  {
   "cell_type": "code",
   "execution_count": 5,
   "metadata": {},
   "outputs": [
    {
     "name": "stdout",
     "output_type": "stream",
     "text": [
      "no\n"
     ]
    }
   ],
   "source": [
    "nos1=10\n",
    "nos2=20\n",
    "if nos1+nos2==10:\n",
    "    print(\"yes\")\n",
    "else:\n",
    "    print(\"no\")\n"
   ]
  },
  {
   "cell_type": "code",
   "execution_count": 8,
   "metadata": {},
   "outputs": [
    {
     "name": "stdout",
     "output_type": "stream",
     "text": [
      "10\n"
     ]
    }
   ],
   "source": [
    "a=10\n",
    "b=20\n",
    "if a>b:\n",
    "    c=a+b\n",
    "    print(c)\n",
    "else:\n",
    "    d=b-a\n",
    "    print(d)"
   ]
  },
  {
   "cell_type": "code",
   "execution_count": 15,
   "metadata": {},
   "outputs": [
    {
     "name": "stdout",
     "output_type": "stream",
     "text": [
      "100\n"
     ]
    }
   ],
   "source": [
    "chocholate=10\n",
    "if True:\n",
    "    num=chocholate**2\n",
    "print(num)\n"
   ]
  },
  {
   "cell_type": "code",
   "execution_count": 16,
   "metadata": {},
   "outputs": [
    {
     "name": "stdout",
     "output_type": "stream",
     "text": [
      "gussed name is not correct\n"
     ]
    }
   ],
   "source": [
    "name=\"kowsalya\"\n",
    "\n",
    "Guessed_name=input(\"Enter the name:\")\n",
    "if a==Guessed_name:\n",
    "    print(\"guessed name is correct\")\n",
    "if a!=Guessed_name:\n",
    "    print(\"gussed name is not correct\")"
   ]
  },
  {
   "cell_type": "code",
   "execution_count": 23,
   "metadata": {},
   "outputs": [
    {
     "name": "stdout",
     "output_type": "stream",
     "text": [
      "[8, 6, 6, 4, 923456]\n"
     ]
    }
   ],
   "source": [
    "list1=[8,9,7,6,9,7,6,5,9,4,923456,567,67689]\n",
    "even_nos=[]\n",
    "for i in list1:\n",
    "    if i%2==0:\n",
    "        even_nos.append(i)\n",
    "        \n",
    "print(even_nos)\n"
   ]
  },
  {
   "cell_type": "code",
   "execution_count": 26,
   "metadata": {},
   "outputs": [
    {
     "name": "stdout",
     "output_type": "stream",
     "text": [
      "[10, 9, 8, 7, 1, 6]\n"
     ]
    }
   ],
   "source": [
    "num1=[9,8,7,6,0,5]\n",
    "num2=[]\n",
    "for i in num1:\n",
    "    i+=1\n",
    "    num2.append(i)\n",
    "print(num2)\n",
    "    \n",
    " "
   ]
  },
  {
   "cell_type": "code",
   "execution_count": 46,
   "metadata": {},
   "outputs": [
    {
     "name": "stdout",
     "output_type": "stream",
     "text": [
      "[8, 7, 6, 5, -1, 4]\n"
     ]
    }
   ],
   "source": [
    "num1=[9,8,7,6,0,5]\n",
    "num2=[]\n",
    "for i in num1:\n",
    "    i-=1\n",
    "    num2.append(i)\n",
    "print(num2)\n",
    "    "
   ]
  },
  {
   "cell_type": "code",
   "execution_count": 50,
   "metadata": {},
   "outputs": [
    {
     "name": "stdout",
     "output_type": "stream",
     "text": [
      "[9, 8, 7, 6, 0, 5]\n"
     ]
    }
   ],
   "source": [
    "num1=[9,8,7,6,0,5]\n",
    "num2=[]\n",
    "for i in num1:\n",
    "    i*=1\n",
    "    num2.append(i)\n",
    "print(num2)\n",
    "    "
   ]
  },
  {
   "cell_type": "code",
   "execution_count": 49,
   "metadata": {},
   "outputs": [
    {
     "name": "stdout",
     "output_type": "stream",
     "text": [
      "[9.0, 8.0, 7.0, 6.0, 0.0, 5.0]\n"
     ]
    }
   ],
   "source": [
    "num1=[9,8,7,6,0,5]\n",
    "num2=[]\n",
    "for i in num1:\n",
    "    i/=1\n",
    "    num2.append(i)\n",
    "print(num2)\n",
    "    "
   ]
  },
  {
   "cell_type": "code",
   "execution_count": 48,
   "metadata": {},
   "outputs": [
    {
     "name": "stdout",
     "output_type": "stream",
     "text": [
      "[0, 0, 0, 0, 0, 0]\n"
     ]
    }
   ],
   "source": [
    "num1=[9,8,7,6,0,5]\n",
    "num2=[]\n",
    "for i in num1:\n",
    "    i%=1\n",
    "    num2.append(i)\n",
    "print(num2)\n",
    "    "
   ]
  },
  {
   "cell_type": "code",
   "execution_count": 47,
   "metadata": {},
   "outputs": [
    {
     "name": "stdout",
     "output_type": "stream",
     "text": [
      "[9, 8, 7, 6, 0, 5]\n"
     ]
    }
   ],
   "source": [
    "num1=[9,8,7,6,0,5]\n",
    "num2=[]\n",
    "for i in num1:\n",
    "    i//=1\n",
    "    num2.append(i)\n",
    "print(num2)\n",
    "    "
   ]
  },
  {
   "cell_type": "code",
   "execution_count": 28,
   "metadata": {},
   "outputs": [
    {
     "name": "stdout",
     "output_type": "stream",
     "text": [
      "division of two nos is 0.6666666666666666\n"
     ]
    }
   ],
   "source": [
    "num1=100\n",
    "num2=150\n",
    "if True:\n",
    "    c=num1/num2\n",
    "    print(\"division of two nos is\",c)\n",
    "    \n",
    "\n"
   ]
  },
  {
   "cell_type": "code",
   "execution_count": 39,
   "metadata": {},
   "outputs": [
    {
     "name": "stdout",
     "output_type": "stream",
     "text": [
      "it is a chocholate\n"
     ]
    }
   ],
   "source": [
    "list=['munch','five star','milky bar','vennila']\n",
    "chocolate=input(\"enter the fav chocholate:\")\n",
    "\n",
    "if chocolate in list:\n",
    "    print(\"it is a chocholate\")\n",
    "else:\n",
    "    print('it is not chocholate')\n",
    "    "
   ]
  },
  {
   "cell_type": "code",
   "execution_count": 40,
   "metadata": {},
   "outputs": [
    {
     "name": "stdout",
     "output_type": "stream",
     "text": [
      "it is not chocholate\n"
     ]
    }
   ],
   "source": [
    "list=['munch','five star','milky bar','vennila']\n",
    "chocolate=input(\"enter the fav chocholate:\")\n",
    "\n",
    "if chocolate not in list:\n",
    "    print(\"it is not a chocholate\")\n",
    "else:\n",
    "    print('it is a chocholate')\n"
   ]
  },
  {
   "cell_type": "code",
   "execution_count": 45,
   "metadata": {},
   "outputs": [
    {
     "name": "stdout",
     "output_type": "stream",
     "text": [
      "yes\n"
     ]
    },
    {
     "name": "stderr",
     "output_type": "stream",
     "text": [
      "<>:2: SyntaxWarning: \"is\" with 'str' literal. Did you mean \"==\"?\n",
      "<>:2: SyntaxWarning: \"is\" with 'str' literal. Did you mean \"==\"?\n",
      "C:\\Users\\KOWSALYA M\\AppData\\Local\\Temp\\ipykernel_18020\\1282209777.py:2: SyntaxWarning: \"is\" with 'str' literal. Did you mean \"==\"?\n",
      "  if 'samsung' is phone:\n"
     ]
    }
   ],
   "source": [
    "phone='samsung'\n",
    "if 'samsung' is phone:\n",
    "    print(\"yes\")\n",
    "else:\n",
    "    print(\"no\")"
   ]
  },
  {
   "cell_type": "code",
   "execution_count": 43,
   "metadata": {},
   "outputs": [
    {
     "name": "stdout",
     "output_type": "stream",
     "text": [
      "yes\n"
     ]
    },
    {
     "name": "stderr",
     "output_type": "stream",
     "text": [
      "<>:2: SyntaxWarning: \"is not\" with 'str' literal. Did you mean \"!=\"?\n",
      "<>:2: SyntaxWarning: \"is not\" with 'str' literal. Did you mean \"!=\"?\n",
      "C:\\Users\\KOWSALYA M\\AppData\\Local\\Temp\\ipykernel_18020\\2527252995.py:2: SyntaxWarning: \"is not\" with 'str' literal. Did you mean \"!=\"?\n",
      "  if 'o' is not name:\n"
     ]
    }
   ],
   "source": [
    "name='kowcy'\n",
    "if 'o' is not name:\n",
    "    print('yes')\n",
    "else:\n",
    "    print('no')"
   ]
  },
  {
   "cell_type": "code",
   "execution_count": 51,
   "metadata": {},
   "outputs": [
    {
     "name": "stdout",
     "output_type": "stream",
     "text": [
      "either one equal\n"
     ]
    }
   ],
   "source": [
    "num1=10\n",
    "num2=20\n",
    "if num1==10 and num2==10:\n",
    "    print(\"both should be equal\")\n",
    "elif num1==10 or num2==10:\n",
    "    print('either one equal')\n",
    "else:\n",
    "    print(\"it is not same\")"
   ]
  },
  {
   "cell_type": "code",
   "execution_count": null,
   "metadata": {},
   "outputs": [],
   "source": []
  }
 ],
 "metadata": {
  "kernelspec": {
   "display_name": "venv",
   "language": "python",
   "name": "python3"
  },
  "language_info": {
   "codemirror_mode": {
    "name": "ipython",
    "version": 3
   },
   "file_extension": ".py",
   "mimetype": "text/x-python",
   "name": "python",
   "nbconvert_exporter": "python",
   "pygments_lexer": "ipython3",
   "version": "3.12.0"
  }
 },
 "nbformat": 4,
 "nbformat_minor": 2
}
