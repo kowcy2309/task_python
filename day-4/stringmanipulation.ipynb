{
 "cells": [
  {
   "cell_type": "code",
   "execution_count": 1,
   "metadata": {},
   "outputs": [],
   "source": [
    "lorem='''Lorem Ipsum is simply dummy text of the printing and typesetting industry. Lorem Ipsum has been the industry's standard dummy text ever since the 1500s, when an unknown printer took a galley of type and scrambled it to make a type specimen book. It has survived not only five centuries, but also the leap into electronic typesetting, remaining essentially unchanged. It was popularised in the 1960s with the release of Letraset sheets containing Lorem Ipsum passages, and more recently with desktop publishing software like Aldus PageMaker including versions of Lorem Ipsum.\n",
    "Why do we use it?\n",
    "\n",
    "It is a long established fact that a reader will be distracted by the readable content of a page when looking at its layout. The point of using Lorem Ipsum is that it has a more-or-less normal distribution of letters, as opposed to using 'Content here, content here', making it look like readable English. Many desktop publishing packages and web page editors now use Lorem Ipsum as their default model text, and a search for 'lorem ipsum' will uncover many web sites still in their infancy. Various versions have evolved over the years, sometimes by accident, sometimes on purpose (injected humour and the like).\n",
    "\n",
    "Where does it come from?\n",
    "\n",
    "Contrary to popular belief, Lorem Ipsum is not simply random text. It has roots in a piece of classical Latin literature from 45 BC, making it over 2000 years old. Richard McClintock, a Latin professor at Hampden-Sydney College in Virginia, looked up one of the more obscure Latin words, consectetur, from a Lorem Ipsum passage, and going through the cites of the word in classical literature, discovered the undoubtable source. Lorem Ipsum comes from sections 1.10.32 and 1.10.33 of \"de Finibus Bonorum et Malorum\" (The Extremes of Good and Evil) by Cicero, written in 45 BC. This book is a treatise on the theory of ethics, very popular during the Renaissance. The first line of Lorem Ipsum, \"Lorem ipsum dolor sit amet..\", comes from a line in section 1.10.32.\n",
    "\n",
    "The standard chunk of Lorem Ipsum used since the 1500s is reproduced below for those interested. Sections 1.10.32 and 1.10.33 from \"de Finibus Bonorum et Malorum\" by Cicero are also reproduced in their exact original form, accompanied by English versions from the 1914 translation by H. Rackham.\n",
    "Where can I get some?\n",
    "\n",
    "There are many variations of passages of Lorem Ipsum available, but the majority have suffered alteration in some form, by injected humour, or randomised words which don't look even slightly believable. If you are going to use a passage of Lorem Ipsum, you need to be sure there isn't anything embarrassing hidden in the middle of text. All the Lorem Ipsum generators on the Internet tend to repeat predefined chunks as necessary, making this the first true generator on the Internet. It uses a dictionary of over 200 Latin words, combined with a handful of model sentence structures, to generate Lorem Ipsum which looks reasonable. The generated Lorem Ipsum is therefore always free from repetition, injected humour, or non-characteristic words etc.'''\n"
   ]
  },
  {
   "cell_type": "code",
   "execution_count": 2,
   "metadata": {},
   "outputs": [
    {
     "data": {
      "text/plain": [
       "3069"
      ]
     },
     "execution_count": 2,
     "metadata": {},
     "output_type": "execute_result"
    }
   ],
   "source": [
    "len(lorem)"
   ]
  },
  {
   "cell_type": "markdown",
   "metadata": {},
   "source": [
    "### 1.give me the median 200 letters:"
   ]
  },
  {
   "cell_type": "code",
   "execution_count": 3,
   "metadata": {},
   "outputs": [
    {
     "name": "stdout",
     "output_type": "stream",
     "text": [
      "or at Hampden-Sydney College in Virginia, looked up one of the more obscure Latin words, consectetur, from a Lorem Ipsum passage, and going through the cites of the word in classical literature, disco\n"
     ]
    }
   ],
   "source": [
    "\n",
    "slice=lorem[1434:1634]\n",
    "print(slice)"
   ]
  },
  {
   "cell_type": "markdown",
   "metadata": {},
   "source": [
    "### 2.strip out all the gaps:"
   ]
  },
  {
   "cell_type": "code",
   "execution_count": 4,
   "metadata": {},
   "outputs": [
    {
     "name": "stdout",
     "output_type": "stream",
     "text": [
      "['Lorem', 'Ipsum', 'is', 'simply', 'dummy', 'text', 'of', 'the', 'printing', 'and', 'typesetting', 'industry.', 'Lorem', 'Ipsum', 'has', 'been', 'the', \"industry's\", 'standard', 'dummy', 'text', 'ever', 'since', 'the', '1500s,', 'when', 'an', 'unknown', 'printer', 'took', 'a', 'galley', 'of', 'type', 'and', 'scrambled', 'it', 'to', 'make', 'a', 'type', 'specimen', 'book.', 'It', 'has', 'survived', 'not', 'only', 'five', 'centuries,', 'but', 'also', 'the', 'leap', 'into', 'electronic', 'typesetting,', 'remaining', 'essentially', 'unchanged.', 'It', 'was', 'popularised', 'in', 'the', '1960s', 'with', 'the', 'release', 'of', 'Letraset', 'sheets', 'containing', 'Lorem', 'Ipsum', 'passages,', 'and', 'more', 'recently', 'with', 'desktop', 'publishing', 'software', 'like', 'Aldus', 'PageMaker', 'including', 'versions', 'of', 'Lorem', 'Ipsum.', 'Why', 'do', 'we', 'use', 'it?', 'It', 'is', 'a', 'long', 'established', 'fact', 'that', 'a', 'reader', 'will', 'be', 'distracted', 'by', 'the', 'readable', 'content', 'of', 'a', 'page', 'when', 'looking', 'at', 'its', 'layout.', 'The', 'point', 'of', 'using', 'Lorem', 'Ipsum', 'is', 'that', 'it', 'has', 'a', 'more-or-less', 'normal', 'distribution', 'of', 'letters,', 'as', 'opposed', 'to', 'using', \"'Content\", 'here,', 'content', \"here',\", 'making', 'it', 'look', 'like', 'readable', 'English.', 'Many', 'desktop', 'publishing', 'packages', 'and', 'web', 'page', 'editors', 'now', 'use', 'Lorem', 'Ipsum', 'as', 'their', 'default', 'model', 'text,', 'and', 'a', 'search', 'for', \"'lorem\", \"ipsum'\", 'will', 'uncover', 'many', 'web', 'sites', 'still', 'in', 'their', 'infancy.', 'Various', 'versions', 'have', 'evolved', 'over', 'the', 'years,', 'sometimes', 'by', 'accident,', 'sometimes', 'on', 'purpose', '(injected', 'humour', 'and', 'the', 'like).', 'Where', 'does', 'it', 'come', 'from?', 'Contrary', 'to', 'popular', 'belief,', 'Lorem', 'Ipsum', 'is', 'not', 'simply', 'random', 'text.', 'It', 'has', 'roots', 'in', 'a', 'piece', 'of', 'classical', 'Latin', 'literature', 'from', '45', 'BC,', 'making', 'it', 'over', '2000', 'years', 'old.', 'Richard', 'McClintock,', 'a', 'Latin', 'professor', 'at', 'Hampden-Sydney', 'College', 'in', 'Virginia,', 'looked', 'up', 'one', 'of', 'the', 'more', 'obscure', 'Latin', 'words,', 'consectetur,', 'from', 'a', 'Lorem', 'Ipsum', 'passage,', 'and', 'going', 'through', 'the', 'cites', 'of', 'the', 'word', 'in', 'classical', 'literature,', 'discovered', 'the', 'undoubtable', 'source.', 'Lorem', 'Ipsum', 'comes', 'from', 'sections', '1.10.32', 'and', '1.10.33', 'of', '\"de', 'Finibus', 'Bonorum', 'et', 'Malorum\"', '(The', 'Extremes', 'of', 'Good', 'and', 'Evil)', 'by', 'Cicero,', 'written', 'in', '45', 'BC.', 'This', 'book', 'is', 'a', 'treatise', 'on', 'the', 'theory', 'of', 'ethics,', 'very', 'popular', 'during', 'the', 'Renaissance.', 'The', 'first', 'line', 'of', 'Lorem', 'Ipsum,', '\"Lorem', 'ipsum', 'dolor', 'sit', 'amet..\",', 'comes', 'from', 'a', 'line', 'in', 'section', '1.10.32.', 'The', 'standard', 'chunk', 'of', 'Lorem', 'Ipsum', 'used', 'since', 'the', '1500s', 'is', 'reproduced', 'below', 'for', 'those', 'interested.', 'Sections', '1.10.32', 'and', '1.10.33', 'from', '\"de', 'Finibus', 'Bonorum', 'et', 'Malorum\"', 'by', 'Cicero', 'are', 'also', 'reproduced', 'in', 'their', 'exact', 'original', 'form,', 'accompanied', 'by', 'English', 'versions', 'from', 'the', '1914', 'translation', 'by', 'H.', 'Rackham.', 'Where', 'can', 'I', 'get', 'some?', 'There', 'are', 'many', 'variations', 'of', 'passages', 'of', 'Lorem', 'Ipsum', 'available,', 'but', 'the', 'majority', 'have', 'suffered', 'alteration', 'in', 'some', 'form,', 'by', 'injected', 'humour,', 'or', 'randomised', 'words', 'which', \"don't\", 'look', 'even', 'slightly', 'believable.', 'If', 'you', 'are', 'going', 'to', 'use', 'a', 'passage', 'of', 'Lorem', 'Ipsum,', 'you', 'need', 'to', 'be', 'sure', 'there', \"isn't\", 'anything', 'embarrassing', 'hidden', 'in', 'the', 'middle', 'of', 'text.', 'All', 'the', 'Lorem', 'Ipsum', 'generators', 'on', 'the', 'Internet', 'tend', 'to', 'repeat', 'predefined', 'chunks', 'as', 'necessary,', 'making', 'this', 'the', 'first', 'true', 'generator', 'on', 'the', 'Internet.', 'It', 'uses', 'a', 'dictionary', 'of', 'over', '200', 'Latin', 'words,', 'combined', 'with', 'a', 'handful', 'of', 'model', 'sentence', 'structures,', 'to', 'generate', 'Lorem', 'Ipsum', 'which', 'looks', 'reasonable.', 'The', 'generated', 'Lorem', 'Ipsum', 'is', 'therefore', 'always', 'free', 'from', 'repetition,', 'injected', 'humour,', 'or', 'non-characteristic', 'words', 'etc.']\n",
      "LoremIpsumissimplydummytextoftheprintingandtypesettingindustry.LoremIpsumhasbeentheindustry'sstandarddummytexteversincethe1500s,whenanunknownprintertookagalleyoftypeandscrambledittomakeatypespecimenbook.Ithassurvivednotonlyfivecenturies,butalsotheleapintoelectronictypesetting,remainingessentiallyunchanged.Itwaspopularisedinthe1960swiththereleaseofLetrasetsheetscontainingLoremIpsumpassages,andmorerecentlywithdesktoppublishingsoftwarelikeAldusPageMakerincludingversionsofLoremIpsum.Whydoweuseit?Itisalongestablishedfactthatareaderwillbedistractedbythereadablecontentofapagewhenlookingatitslayout.ThepointofusingLoremIpsumisthatithasamore-or-lessnormaldistributionofletters,asopposedtousing'Contenthere,contenthere',makingitlooklikereadableEnglish.ManydesktoppublishingpackagesandwebpageeditorsnowuseLoremIpsumastheirdefaultmodeltext,andasearchfor'loremipsum'willuncovermanywebsitesstillintheirinfancy.Variousversionshaveevolvedovertheyears,sometimesbyaccident,sometimesonpurpose(injectedhumourandthelike).Wheredoesitcomefrom?Contrarytopopularbelief,LoremIpsumisnotsimplyrandomtext.IthasrootsinapieceofclassicalLatinliteraturefrom45BC,makingitover2000yearsold.RichardMcClintock,aLatinprofessoratHampden-SydneyCollegeinVirginia,lookeduponeofthemoreobscureLatinwords,consectetur,fromaLoremIpsumpassage,andgoingthroughthecitesofthewordinclassicalliterature,discoveredtheundoubtablesource.LoremIpsumcomesfromsections1.10.32and1.10.33of\"deFinibusBonorumetMalorum\"(TheExtremesofGoodandEvil)byCicero,writtenin45BC.Thisbookisatreatiseonthetheoryofethics,verypopularduringtheRenaissance.ThefirstlineofLoremIpsum,\"Loremipsumdolorsitamet..\",comesfromalineinsection1.10.32.ThestandardchunkofLoremIpsumusedsincethe1500sisreproducedbelowforthoseinterested.Sections1.10.32and1.10.33from\"deFinibusBonorumetMalorum\"byCiceroarealsoreproducedintheirexactoriginalform,accompaniedbyEnglishversionsfromthe1914translationbyH.Rackham.WherecanIgetsome?TherearemanyvariationsofpassagesofLoremIpsumavailable,butthemajorityhavesufferedalterationinsomeform,byinjectedhumour,orrandomisedwordswhichdon'tlookevenslightlybelievable.IfyouaregoingtouseapassageofLoremIpsum,youneedtobesurethereisn'tanythingembarrassinghiddeninthemiddleoftext.AlltheLoremIpsumgeneratorsontheInternettendtorepeatpredefinedchunksasnecessary,makingthisthefirsttruegeneratorontheInternet.Itusesadictionaryofover200Latinwords,combinedwithahandfulofmodelsentencestructures,togenerateLoremIpsumwhichlooksreasonable.ThegeneratedLoremIpsumisthereforealwaysfreefromrepetition,injectedhumour,ornon-characteristicwordsetc.\n"
     ]
    }
   ],
   "source": [
    "\n",
    "\n",
    "stripout=lorem.strip()\n",
    "k=lorem.split()\n",
    "print(k)\n",
    "stripout=\"\".join(k)\n",
    "print(stripout)\n"
   ]
  },
  {
   "cell_type": "markdown",
   "metadata": {},
   "source": [
    "### 3.every 12th letter and combine"
   ]
  },
  {
   "cell_type": "code",
   "execution_count": 5,
   "metadata": {},
   "outputs": [
    {
     "name": "stdout",
     "output_type": "stream",
     "text": [
      "Lsetermnnxhanlsoetneanc,shpnhfegaoibwscossndasethiegsoourteeielkndoeieeeueicroymtnenhmabImxslnrnyhcfdlnoowtosgidliuopm03uaxdinbirersreesoe1nLe0che.0imysio,bs1iageaapereo,uohkyIggubsehiAprnedegtonivodleeehsemerieoic\n"
     ]
    }
   ],
   "source": [
    "\n",
    "\n",
    "\n",
    "slice=stripout[::12]\n",
    "print(slice)"
   ]
  },
  {
   "cell_type": "markdown",
   "metadata": {},
   "source": [
    "### 4.reverse the combined 12th letter"
   ]
  },
  {
   "cell_type": "code",
   "execution_count": 6,
   "metadata": {},
   "outputs": [
    {
     "name": "stdout",
     "output_type": "stream",
     "text": [
      "cioeiremesheeeldovinotgedenrpAihesbuggIykhou,oerepaaegai1sb,oisymi0.ehc0eLn1eoseersreribnidxau30mpouildigsotwoonldfchynrnlsxmIbamhnentmyorcieueeeieodnkleieetruoosgeihtesadnssocswbioagefhnphs,cnaenteoslnahxnnmretesL\n"
     ]
    }
   ],
   "source": [
    "\n",
    "\n",
    "rev=slice[::-1]\n",
    "print(rev)\n"
   ]
  },
  {
   "cell_type": "markdown",
   "metadata": {},
   "source": [
    "### 5.in reversed string r should be followed by space."
   ]
  },
  {
   "cell_type": "code",
   "execution_count": 7,
   "metadata": {},
   "outputs": [
    {
     "name": "stdout",
     "output_type": "stream",
     "text": [
      "cioeir emesheeeldovinotgedenr pAihesbuggIykhou,oer epaaegai1sb,oisymi0.ehc0eLn1eoseer sr er ibnidxau30mpouildigsotwoonldfchynr nlsxmIbamhnentmyor cieueeeieodnkleieetr uoosgeihtesadnssocswbioagefhnphs,cnaenteoslnahxnnmr etesL\n"
     ]
    }
   ],
   "source": [
    "\n",
    "space=rev.replace(\"r\",\"r \")\n",
    "print(space)"
   ]
  },
  {
   "cell_type": "markdown",
   "metadata": {},
   "source": [
    "### 6.make every words first letter cap"
   ]
  },
  {
   "cell_type": "code",
   "execution_count": 8,
   "metadata": {},
   "outputs": [
    {
     "name": "stdout",
     "output_type": "stream",
     "text": [
      "Cioeir Emesheeeldovinotgedenr Paihesbuggiykhou,Oer Epaaegai1Sb,Oisymi0.Ehc0Eln1Eoseer Sr Er Ibnidxau30Mpouildigsotwoonldfchynr Nlsxmibamhnentmyor Cieueeeieodnkleieetr Uoosgeihtesadnssocswbioagefhnphs,Cnaenteoslnahxnnmr Etesl\n"
     ]
    }
   ],
   "source": [
    "\n",
    "\n",
    "cap=space.title()\n",
    "print(cap)"
   ]
  },
  {
   "cell_type": "code",
   "execution_count": 10,
   "metadata": {},
   "outputs": [
    {
     "ename": "ValueError",
     "evalue": "empty separator",
     "output_type": "error",
     "traceback": [
      "\u001b[1;31m---------------------------------------------------------------------------\u001b[0m",
      "\u001b[1;31mValueError\u001b[0m                                Traceback (most recent call last)",
      "Cell \u001b[1;32mIn[10], line 2\u001b[0m\n\u001b[0;32m      1\u001b[0m pat\u001b[38;5;241m=\u001b[39m\u001b[38;5;124m\"\u001b[39m\u001b[38;5;124mEmesheeeldovinotgedenr\u001b[39m\u001b[38;5;124m\"\u001b[39m\n\u001b[1;32m----> 2\u001b[0m k\u001b[38;5;241m=\u001b[39m\u001b[43mpat\u001b[49m\u001b[38;5;241;43m.\u001b[39;49m\u001b[43msplit\u001b[49m\u001b[43m(\u001b[49m\u001b[38;5;124;43m'\u001b[39;49m\u001b[38;5;124;43m'\u001b[39;49m\u001b[43m)\u001b[49m\n\u001b[0;32m      3\u001b[0m \u001b[38;5;28mprint\u001b[39m(k)\n",
      "\u001b[1;31mValueError\u001b[0m: empty separator"
     ]
    }
   ],
   "source": [
    "pat=\"Emesheeeldovinotgedenr\"\n",
    "k=pat.split('')\n",
    "print(k)"
   ]
  },
  {
   "cell_type": "code",
   "execution_count": null,
   "metadata": {},
   "outputs": [
    {
     "name": "stdout",
     "output_type": "stream",
     "text": [
      "['Em', 'sh', '', '', 'ldovinotg', 'd', 'nr']\n"
     ]
    }
   ],
   "source": [
    "\n",
    "import re\n",
    "k=\"e\"\n",
    "pat=\"Emesheeeldovinotgedenr\"\n",
    "\n",
    "print(re.split(k,pat))"
   ]
  },
  {
   "cell_type": "code",
   "execution_count": null,
   "metadata": {},
   "outputs": [
    {
     "name": "stdout",
     "output_type": "stream",
     "text": [
      "['', 'E', 'm', 'e', 's', 'h', 'e', 'e', 'e', 'l', 'd', 'o', 'v', 'i', 'n', 'o', 't', 'g', 'e', 'd', 'e', 'n', 'r', '']\n"
     ]
    }
   ],
   "source": [
    "\n",
    "import re\n",
    "k=\"\"\n",
    "pat=\"Emesheeeldovinotgedenr\"\n",
    "\n",
    "print(re.split(k,pat))"
   ]
  },
  {
   "cell_type": "code",
   "execution_count": null,
   "metadata": {},
   "outputs": [
    {
     "ename": "ValueError",
     "evalue": "empty separator",
     "output_type": "error",
     "traceback": [
      "\u001b[1;31m---------------------------------------------------------------------------\u001b[0m",
      "\u001b[1;31mValueError\u001b[0m                                Traceback (most recent call last)",
      "Cell \u001b[1;32mIn[11], line 2\u001b[0m\n\u001b[0;32m      1\u001b[0m pat\u001b[38;5;241m=\u001b[39m\u001b[38;5;124m\"\u001b[39m\u001b[38;5;124mEmesheeeldovinotgedenr\u001b[39m\u001b[38;5;124m\"\u001b[39m\n\u001b[1;32m----> 2\u001b[0m k\u001b[38;5;241m=\u001b[39m\u001b[43mpat\u001b[49m\u001b[38;5;241;43m.\u001b[39;49m\u001b[43msplit\u001b[49m\u001b[43m(\u001b[49m\u001b[38;5;124;43m\"\u001b[39;49m\u001b[38;5;124;43m\"\u001b[39;49m\u001b[43m)\u001b[49m\n\u001b[0;32m      3\u001b[0m \u001b[38;5;28mprint\u001b[39m(k)\n",
      "\u001b[1;31mValueError\u001b[0m: empty separator"
     ]
    }
   ],
   "source": []
  },
  {
   "cell_type": "code",
   "execution_count": null,
   "metadata": {},
   "outputs": [],
   "source": []
  }
 ],
 "metadata": {
  "kernelspec": {
   "display_name": "venv",
   "language": "python",
   "name": "python3"
  },
  "language_info": {
   "codemirror_mode": {
    "name": "ipython",
    "version": 3
   },
   "file_extension": ".py",
   "mimetype": "text/x-python",
   "name": "python",
   "nbconvert_exporter": "python",
   "pygments_lexer": "ipython3",
   "version": "3.12.0"
  }
 },
 "nbformat": 4,
 "nbformat_minor": 2
}
