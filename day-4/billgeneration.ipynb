{
 "cells": [
  {
   "cell_type": "code",
   "execution_count": 2,
   "metadata": {},
   "outputs": [
    {
     "name": "stdout",
     "output_type": "stream",
     "text": [
      "******* kamala kitchen ********\n",
      "40\n",
      "40\n",
      "40\n",
      "40\n",
      "40\n",
      "40\n",
      "40\n",
      "40\n",
      "40\n"
     ]
    }
   ],
   "source": [
    "from hotel import *\n",
    "print(\"*******\",Hotel,\"********\")\n",
    "# print('1.idly')\n",
    "# print('2.poori')\n",
    "# print('3.dosai')\n",
    "# print('4.briyani')\n",
    "# print('5.lemon')\n",
    "list=[]\n",
    "\n",
    "while(True):\n",
    "    order=input('Enter the your order please:')\n",
    "    \n",
    "    if  order=='idly' :\n",
    "        quantity=int(input(\"Enter the quantity\"))\n",
    "        total=idly*quantity\n",
    "    elif order=='poori':\n",
    "        quantity=int(input(\"Enter the quantity\"))\n",
    "        total=poori*quantity\n",
    "    elif order=='dosai':\n",
    "        quantity=int(input(\"Enter the quantity\"))\n",
    "        total=dosai*quantity\n",
    "    elif order=='briyani':\n",
    "        quantity=int(input(\"Enter the quantity\"))\n",
    "        total=briyani*quantity\n",
    "    elif order=='lemon_rice':\n",
    "        quantity=int(input(\"Enter the quantity\"))\n",
    "        total=lemon_rice*quantity\n",
    "    elif order==\"done\":\n",
    "        print(\"not available\")\n",
    "    next_food=input(\"Have need any other food\")\n",
    "    print(total)\n",
    "    \n",
    "\n"
   ]
  },
  {
   "cell_type": "code",
   "execution_count": null,
   "metadata": {},
   "outputs": [],
   "source": []
  }
 ],
 "metadata": {
  "kernelspec": {
   "display_name": "venv",
   "language": "python",
   "name": "python3"
  },
  "language_info": {
   "codemirror_mode": {
    "name": "ipython",
    "version": 3
   },
   "file_extension": ".py",
   "mimetype": "text/x-python",
   "name": "python",
   "nbconvert_exporter": "python",
   "pygments_lexer": "ipython3",
   "version": "3.12.0"
  }
 },
 "nbformat": 4,
 "nbformat_minor": 2
}
