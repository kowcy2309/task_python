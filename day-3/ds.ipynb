{
 "cells": [
  {
   "cell_type": "code",
   "execution_count": 198,
   "metadata": {},
   "outputs": [
    {
     "name": "stdout",
     "output_type": "stream",
     "text": [
      "g\n"
     ]
    }
   ],
   "source": [
    "a=[\"lxkjlk\",\"ofghjk\",\"ulllll\",\"ycxvbnm\"]\n",
    "print(a[1][2])\n"
   ]
  },
  {
   "cell_type": "code",
   "execution_count": 199,
   "metadata": {},
   "outputs": [
    {
     "name": "stdout",
     "output_type": "stream",
     "text": [
      "['corona', 'kidney stone', 'heart problem', 'fever', 'cold', 'malaria', 'Dengue', 'cough']\n",
      "1\n",
      "['corona', 'kidney stone', 'heart problem', 'fever', 'cold', 'malaria', 'Dengue', 'cough', 'jaundice', 'heart problem', 'cancer']\n"
     ]
    }
   ],
   "source": [
    "disease=[\"corona\",\"kidney stone\",\"heart problem\",\"fever\",\"cold\",\"malaria\",\"Dengue\"]\n",
    "disease.append(\"cough\")\n",
    "print(disease)\n",
    "\n",
    "\n",
    "\n",
    "l2=disease.count(\"fever\")\n",
    "print(l2)\n",
    "\n",
    "\n",
    "disease.extend([\"jaundice\",\"heart problem\",\"cancer\"])\n",
    "print(disease)\n"
   ]
  },
  {
   "cell_type": "code",
   "execution_count": 200,
   "metadata": {},
   "outputs": [
    {
     "name": "stdout",
     "output_type": "stream",
     "text": [
      "['corona', 'kidney stone', 'eye-disease', 'heart problem', 'fever', 'cold', 'malaria', 'Dengue', 'cough', 'jaundice', 'heart problem', 'cancer']\n"
     ]
    }
   ],
   "source": [
    "\n",
    "\n",
    "disease.insert(2,\"eye-disease\")\n",
    "print(disease)\n",
    "\n",
    "\n"
   ]
  },
  {
   "cell_type": "code",
   "execution_count": 201,
   "metadata": {},
   "outputs": [
    {
     "name": "stdout",
     "output_type": "stream",
     "text": [
      "['corona', 'kidney stone', 'eye-disease', 'heart problem', 'fever', 'cold', 'malaria', 'Dengue', 'jaundice', 'heart problem', 'cancer']\n"
     ]
    }
   ],
   "source": [
    "\n",
    "disease.remove(\"cough\")\n",
    "print(disease)\n"
   ]
  },
  {
   "cell_type": "code",
   "execution_count": 202,
   "metadata": {},
   "outputs": [
    {
     "name": "stdout",
     "output_type": "stream",
     "text": [
      "['corona', 'kidney stone', 'eye-disease', 'heart problem', 'fever', 'cold', 'malaria', 'Dengue', 'jaundice', 'heart problem', 'cancer']\n"
     ]
    }
   ],
   "source": [
    "disease.index(\"cold\")\n",
    "print(disease)\n",
    "\n"
   ]
  },
  {
   "cell_type": "code",
   "execution_count": 203,
   "metadata": {},
   "outputs": [
    {
     "name": "stdout",
     "output_type": "stream",
     "text": [
      "['corona', 'kidney stone', 'eye-disease', 'heart problem', 'fever', 'cold', 'malaria', 'Dengue', 'jaundice', 'heart problem']\n"
     ]
    }
   ],
   "source": [
    "disease.pop()\n",
    "print(disease)\n",
    "\n"
   ]
  },
  {
   "cell_type": "code",
   "execution_count": 204,
   "metadata": {},
   "outputs": [
    {
     "name": "stdout",
     "output_type": "stream",
     "text": [
      "['corona', 'kidney stone', 'eye-disease', 'heart problem', 'fever', 'cold', 'Dengue', 'jaundice', 'heart problem']\n"
     ]
    }
   ],
   "source": [
    "disease.pop(6)\n",
    "print(disease)\n"
   ]
  },
  {
   "cell_type": "code",
   "execution_count": 205,
   "metadata": {},
   "outputs": [
    {
     "name": "stdout",
     "output_type": "stream",
     "text": [
      "['Dengue', 'cold', 'corona', 'eye-disease', 'fever', 'heart problem', 'heart problem', 'jaundice', 'kidney stone']\n",
      "['kidney stone', 'jaundice', 'heart problem', 'heart problem', 'fever', 'eye-disease', 'corona', 'cold', 'Dengue']\n"
     ]
    }
   ],
   "source": [
    "disease.sort()\n",
    "print(disease)\n",
    "\n",
    "disease.sort(reverse=True)\n",
    "print(disease)\n",
    "\n"
   ]
  },
  {
   "cell_type": "code",
   "execution_count": 206,
   "metadata": {},
   "outputs": [
    {
     "name": "stdout",
     "output_type": "stream",
     "text": [
      "['Dengue', 'cold', 'corona', 'eye-disease', 'fever', 'heart problem', 'heart problem', 'jaundice', 'kidney stone']\n"
     ]
    }
   ],
   "source": [
    "disease.reverse()\n",
    "print(disease)"
   ]
  },
  {
   "cell_type": "code",
   "execution_count": 207,
   "metadata": {},
   "outputs": [
    {
     "name": "stdout",
     "output_type": "stream",
     "text": [
      "['Dengue', 'cold', 'corona', 'eye-disease', 'fever', 'heart problem', 'heart problem', 'jaundice', 'kidney stone']\n",
      "2041981341568\n",
      "2041981286528\n"
     ]
    }
   ],
   "source": [
    "k=disease.copy()\n",
    "print(k)\n",
    "\n",
    "print(id(disease))\n",
    "print(id(k))"
   ]
  },
  {
   "cell_type": "code",
   "execution_count": 208,
   "metadata": {},
   "outputs": [],
   "source": [
    "# disease.clear()\n",
    "# print(disease)"
   ]
  },
  {
   "cell_type": "code",
   "execution_count": 209,
   "metadata": {},
   "outputs": [
    {
     "name": "stdout",
     "output_type": "stream",
     "text": [
      "['Dengue', 'cold', 'corona', 'eye-disease', 'fever', 'heart problem', 'heart problem', 'jaundice', 'kidney stone']\n"
     ]
    }
   ],
   "source": [
    "print(k)"
   ]
  },
  {
   "cell_type": "code",
   "execution_count": 210,
   "metadata": {},
   "outputs": [
    {
     "name": "stdout",
     "output_type": "stream",
     "text": [
      "{'kidney stone', 'cold', 'fever', 'heart problem', 'Dengue', 'eye-disease', 'jaundice', 'corona'}\n",
      "<class 'set'>\n"
     ]
    }
   ],
   "source": [
    "l3=set(disease)\n",
    "print(l3)\n",
    "print(type(l3))"
   ]
  },
  {
   "cell_type": "code",
   "execution_count": 211,
   "metadata": {},
   "outputs": [
    {
     "name": "stdout",
     "output_type": "stream",
     "text": [
      "('kidney stone', 'cold', 'fever', 'heart problem', 'Dengue', 'eye-disease', 'jaundice', 'corona')\n",
      "<class 'tuple'>\n"
     ]
    }
   ],
   "source": [
    "l4=tuple(l3)\n",
    "print(l4)\n",
    "print(type(l4))\n"
   ]
  },
  {
   "cell_type": "code",
   "execution_count": 212,
   "metadata": {},
   "outputs": [
    {
     "name": "stdout",
     "output_type": "stream",
     "text": [
      "['kidney stone', 'cold', 'fever', 'heart problem', 'Dengue', 'eye-disease', 'jaundice', 'corona']\n",
      "<class 'list'>\n"
     ]
    }
   ],
   "source": [
    "l5=list(l4)\n",
    "print(l5)\n",
    "print(type(l5))"
   ]
  },
  {
   "cell_type": "code",
   "execution_count": 213,
   "metadata": {},
   "outputs": [],
   "source": [
    "disease=()"
   ]
  },
  {
   "cell_type": "code",
   "execution_count": 214,
   "metadata": {},
   "outputs": [
    {
     "name": "stdout",
     "output_type": "stream",
     "text": [
      "(6, 7, 8, 9, 7, 6)\n"
     ]
    }
   ],
   "source": [
    "l1=(6,7,8)\n",
    "l2=(9,7,6)\n",
    "c=l1+l2\n",
    "print(c)"
   ]
  },
  {
   "cell_type": "code",
   "execution_count": 215,
   "metadata": {},
   "outputs": [
    {
     "name": "stdout",
     "output_type": "stream",
     "text": [
      "('Dengue', 'cold', 'corona', 'eye-disease', 'fever', 'heart problem', 'heart problem', 'jaundice', 'kidney stone')\n"
     ]
    }
   ],
   "source": [
    "tup=tuple(k)\n",
    "print(tup)"
   ]
  },
  {
   "cell_type": "code",
   "execution_count": 216,
   "metadata": {},
   "outputs": [
    {
     "name": "stdout",
     "output_type": "stream",
     "text": [
      "1\n"
     ]
    }
   ],
   "source": [
    "\n",
    "b=tup.count(\"Dengue\")\n",
    "\n",
    "print(b)"
   ]
  },
  {
   "cell_type": "code",
   "execution_count": 217,
   "metadata": {},
   "outputs": [
    {
     "name": "stdout",
     "output_type": "stream",
     "text": [
      "0\n"
     ]
    }
   ],
   "source": [
    "c=tup.index(\"Dengue\")\n",
    "print(c)\n"
   ]
  },
  {
   "cell_type": "code",
   "execution_count": 218,
   "metadata": {},
   "outputs": [
    {
     "name": "stdout",
     "output_type": "stream",
     "text": [
      "x: 9 y: 8 z: 6\n"
     ]
    }
   ],
   "source": [
    "cord=(9,8,6)\n",
    "x,y,z=cord\n",
    "print(\"x:\",x,\"y:\",y,\"z:\",z)\n"
   ]
  },
  {
   "cell_type": "code",
   "execution_count": 219,
   "metadata": {},
   "outputs": [
    {
     "name": "stdout",
     "output_type": "stream",
     "text": [
      "3\n"
     ]
    }
   ],
   "source": [
    "li=(6,7,6,6)\n",
    "l=li.index(6,3)\n",
    "print(l)"
   ]
  },
  {
   "cell_type": "code",
   "execution_count": 220,
   "metadata": {},
   "outputs": [],
   "source": [
    "dict1={\"name\":\"kowsalya\",\n",
    "       \"age\":24,\n",
    "       \"department\":\"maths\",\n",
    "       \"course\":\"python and ml\",\n",
    "       \"marks\":80}\n",
    "dict2={\"name\":\"kowsalyasdfgh\"}\n"
   ]
  },
  {
   "cell_type": "code",
   "execution_count": 221,
   "metadata": {},
   "outputs": [
    {
     "data": {
      "text/plain": [
       "'kowsalya'"
      ]
     },
     "execution_count": 221,
     "metadata": {},
     "output_type": "execute_result"
    }
   ],
   "source": [
    "dict1.get(\"name\")\n"
   ]
  },
  {
   "cell_type": "code",
   "execution_count": 222,
   "metadata": {},
   "outputs": [
    {
     "name": "stdout",
     "output_type": "stream",
     "text": [
      "{'name': 'kowsalya', 'age': 24, 'department': 'maths', 'course': 'python and ml', 'marks': 80}\n"
     ]
    }
   ],
   "source": [
    "dict1.items()\n",
    "print(dict1)"
   ]
  },
  {
   "cell_type": "code",
   "execution_count": 223,
   "metadata": {},
   "outputs": [
    {
     "name": "stdout",
     "output_type": "stream",
     "text": [
      "80\n"
     ]
    }
   ],
   "source": [
    "k=dict1.pop(\"marks\")\n",
    "print(k)\n",
    "\n"
   ]
  },
  {
   "cell_type": "code",
   "execution_count": 224,
   "metadata": {},
   "outputs": [
    {
     "name": "stdout",
     "output_type": "stream",
     "text": [
      "{'name': 'kowsalya', 'age': 24, 'department': 'maths', 'course': 'python and ml'}\n"
     ]
    }
   ],
   "source": [
    "print(dict1)"
   ]
  },
  {
   "cell_type": "code",
   "execution_count": 225,
   "metadata": {},
   "outputs": [
    {
     "name": "stdout",
     "output_type": "stream",
     "text": [
      "{'name': 'kowsalya', 'age': 24, 'department': 'maths', 'course': 'python and ml'}\n"
     ]
    }
   ],
   "source": [
    "dict1.update()\n",
    "print(dict1)"
   ]
  },
  {
   "cell_type": "code",
   "execution_count": 226,
   "metadata": {},
   "outputs": [
    {
     "name": "stdout",
     "output_type": "stream",
     "text": [
      "{'name': 'kowsalya', 'age': 24, 'department': 'maths', 'course': 'python and ml', 'nam': 'kow'}\n",
      "{'name': 'kowsalyasdfgh', 'age': 24, 'department': 'maths', 'course': 'python and ml', 'nam': 'kow'}\n"
     ]
    }
   ],
   "source": [
    "dict1.update({\"nam\":\"kow\"})\n",
    "print(dict1)\n",
    "\n",
    "dict1.update(dict2)\n",
    "print(dict1)"
   ]
  },
  {
   "cell_type": "code",
   "execution_count": 227,
   "metadata": {},
   "outputs": [
    {
     "name": "stdout",
     "output_type": "stream",
     "text": [
      "{'name': 'kowsalyasdfgh', 'age': 24, 'department': 'maths', 'course': 'python and ml', 'nam': 'kow'}\n"
     ]
    }
   ],
   "source": [
    "print(dict1)"
   ]
  },
  {
   "cell_type": "code",
   "execution_count": 228,
   "metadata": {},
   "outputs": [
    {
     "name": "stdout",
     "output_type": "stream",
     "text": [
      "dict_values(['kowsalyasdfgh', 24, 'maths', 'python and ml', 'kow'])\n"
     ]
    }
   ],
   "source": [
    "k=dict1.values()\n",
    "print(k)"
   ]
  },
  {
   "cell_type": "code",
   "execution_count": 229,
   "metadata": {},
   "outputs": [
    {
     "name": "stdout",
     "output_type": "stream",
     "text": [
      "{2, 4, 5, 7, 8, 9}\n",
      "{89, 4, 6, 7, 9}\n",
      "{8, 2, 5}\n",
      "{89, 6}\n"
     ]
    }
   ],
   "source": [
    "set1={8,7,8,9,5,4,5}\n",
    "set2={6,7,9,4,4,6,9,89,7}\n",
    "\n",
    "set1.add(2)\n",
    "print(set1)\n",
    "print(set2)\n",
    "\n",
    "k1=set1.difference(set2)\n",
    "print(k1)\n",
    "\n",
    "k2=set2.difference(set1)\n",
    "print(k2)\n",
    "\n",
    "\n",
    "\n"
   ]
  },
  {
   "cell_type": "code",
   "execution_count": 230,
   "metadata": {},
   "outputs": [
    {
     "name": "stdout",
     "output_type": "stream",
     "text": [
      "{2, 4, 5, 7, 8, 9}\n",
      "{89, 4, 6, 7, 9}\n"
     ]
    }
   ],
   "source": [
    "print(set1)\n",
    "print(set2)"
   ]
  },
  {
   "cell_type": "code",
   "execution_count": 231,
   "metadata": {},
   "outputs": [
    {
     "name": "stdout",
     "output_type": "stream",
     "text": [
      "{2, 5, 8}\n",
      "{89, 4, 6, 7, 9}\n"
     ]
    }
   ],
   "source": [
    "set1.difference_update(set2)\n",
    "print(set1)\n",
    "\n",
    "set2.difference_update(set1)\n",
    "print(set2)\n"
   ]
  },
  {
   "cell_type": "code",
   "execution_count": 232,
   "metadata": {},
   "outputs": [
    {
     "name": "stdout",
     "output_type": "stream",
     "text": [
      "{2, 5, 8}\n",
      "{89, 4, 6, 7}\n"
     ]
    }
   ],
   "source": [
    "set1.discard(0)\n",
    "print(set1)\n",
    "\n",
    "set2.remove(9)\n",
    "print(set2)\n"
   ]
  },
  {
   "cell_type": "code",
   "execution_count": 233,
   "metadata": {},
   "outputs": [
    {
     "name": "stdout",
     "output_type": "stream",
     "text": [
      "{2, 5, 8}\n",
      "{89, 4, 6, 7}\n"
     ]
    }
   ],
   "source": [
    "print(set1)\n",
    "print(set2)\n"
   ]
  },
  {
   "cell_type": "code",
   "execution_count": 234,
   "metadata": {},
   "outputs": [
    {
     "name": "stdout",
     "output_type": "stream",
     "text": [
      "True\n",
      "False\n",
      "False\n"
     ]
    }
   ],
   "source": [
    "k=set1.isdisjoint(set2)\n",
    "print(k)\n",
    "\n",
    "k=set1.issubset(set2)\n",
    "print(k)\n",
    "\n",
    "k=set1.issuperset(set2)\n",
    "print(k)"
   ]
  },
  {
   "cell_type": "code",
   "execution_count": 235,
   "metadata": {},
   "outputs": [],
   "source": [
    "# set1.pop()\n",
    "# print(set1)\n",
    "\n",
    "\n"
   ]
  },
  {
   "cell_type": "code",
   "execution_count": 236,
   "metadata": {},
   "outputs": [
    {
     "name": "stdout",
     "output_type": "stream",
     "text": [
      "{2, 5, 8}\n"
     ]
    }
   ],
   "source": [
    "print(set1)"
   ]
  },
  {
   "cell_type": "code",
   "execution_count": 237,
   "metadata": {},
   "outputs": [],
   "source": [
    "# a=set1.intersection(set2)\n",
    "# print(a)\n",
    "\n",
    "# set2.intersection_update(set1)\n",
    "# print(set2)"
   ]
  },
  {
   "cell_type": "code",
   "execution_count": null,
   "metadata": {},
   "outputs": [],
   "source": []
  }
 ],
 "metadata": {
  "kernelspec": {
   "display_name": "venv",
   "language": "python",
   "name": "python3"
  },
  "language_info": {
   "codemirror_mode": {
    "name": "ipython",
    "version": 3
   },
   "file_extension": ".py",
   "mimetype": "text/x-python",
   "name": "python",
   "nbconvert_exporter": "python",
   "pygments_lexer": "ipython3",
   "version": "3.12.0"
  }
 },
 "nbformat": 4,
 "nbformat_minor": 2
}
