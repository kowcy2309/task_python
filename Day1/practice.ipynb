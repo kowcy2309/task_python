{
 "cells": [
  {
   "cell_type": "code",
   "execution_count": 16,
   "metadata": {},
   "outputs": [
    {
     "name": "stdout",
     "output_type": "stream",
     "text": [
      "[7, 9, 8, 'kowsy', 'kaviya', 'joe', 'ajju', 78, 90, 78, 5]\n",
      "[7, 9, 8, 'kowsy', 'kaviya', 'joe', 'ajju', 78, 90, 78, 5, 'kows']\n",
      "[7, 9, 8, 'kowsy', 'kaviya', 'joe', 'ajju', 78, 90, 78, 5, 'kows', 'buvanesh', 'hari', 89, 67.45, 89]\n",
      "3\n"
     ]
    }
   ],
   "source": [
    "list1=[7,9,8,\"kowsy\",\"kaviya\",\"joe\",\"ajju\",78,90,78]\n",
    "list1.append(5)\n",
    "print(list1)\n",
    "list1.append(\"kows\")\n",
    "print(list1)\n",
    "list1.extend([\"buvanesh\",\"hari\",89,67.45,89])\n",
    "print(list1)\n",
    "print(list1.index(\"kowsy\"))\n",
    "# print(list1.count())\n"
   ]
  },
  {
   "cell_type": "code",
   "execution_count": 3,
   "metadata": {},
   "outputs": [
    {
     "data": {
      "text/plain": [
       "0"
      ]
     },
     "execution_count": 3,
     "metadata": {},
     "output_type": "execute_result"
    }
   ],
   "source": []
  },
  {
   "cell_type": "code",
   "execution_count": null,
   "metadata": {},
   "outputs": [],
   "source": []
  }
 ],
 "metadata": {
  "kernelspec": {
   "display_name": "venv",
   "language": "python",
   "name": "python3"
  },
  "language_info": {
   "codemirror_mode": {
    "name": "ipython",
    "version": 3
   },
   "file_extension": ".py",
   "mimetype": "text/x-python",
   "name": "python",
   "nbconvert_exporter": "python",
   "pygments_lexer": "ipython3",
   "version": "3.12.0"
  }
 },
 "nbformat": 4,
 "nbformat_minor": 2
}
