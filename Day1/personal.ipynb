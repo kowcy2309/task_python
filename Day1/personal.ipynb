{
 "cells": [
  {
   "cell_type": "code",
   "execution_count": 9,
   "metadata": {},
   "outputs": [
    {
     "name": "stdout",
     "output_type": "stream",
     "text": [
      "my name is kowsalya Type: <class 'str'>\n",
      "my age is 24 Type: <class 'int'>\n",
      "my native is Neyveli Type: <class 'str'>\n",
      "email id is mkowsalya098@gmail.com Type: <class 'str'>\n",
      "working True Type: <class 'bool'>\n",
      "i completed a course in Type: py,ml <class 'str'>\n",
      "fav sports football Type: <class 'str'>\n",
      "fav food lemon rice Type: <class 'str'>\n",
      "fav salary 10000 Type: <class 'int'>\n"
     ]
    }
   ],
   "source": [
    "name=\"kowsalya\"\n",
    "age=24\n",
    "location=\"Neyveli\"\n",
    "email=\"mkowsalya098@gmail.com\"\n",
    "working=True\n",
    "course=\"py,ml\"\n",
    "percentage=78.3\n",
    "sports=\"football\"\n",
    "food=\"lemon rice\"\n",
    "salary=10000\n",
    "\n",
    "# print(name,age,location,email,Gender,course,percentage,sports,food,salary)\n",
    "\n",
    "print(\"my name is\",name,  \"Type:\",type(name))\n",
    "print(\"my age is\",age,  \"Type:\",type(age))\n",
    "print(\"my native is\",location, \"Type:\",type(location))\n",
    "print(\"email id is\",email, \"Type:\",type(email))\n",
    "print(\"working\",working, \"Type:\",type(working))\n",
    "print(\"i completed a course in\", \"Type:\",course,type(course))\n",
    "print(\"fav sports\",sports, \"Type:\",type(sports))\n",
    "print(\"fav food\",food, \"Type:\",type(food))\n",
    "print(\"fav salary\",salary, \"Type:\",type(salary))\n",
    "\n"
   ]
  },
  {
   "cell_type": "code",
   "execution_count": null,
   "metadata": {},
   "outputs": [],
   "source": []
  }
 ],
 "metadata": {
  "kernelspec": {
   "display_name": "venv",
   "language": "python",
   "name": "python3"
  },
  "language_info": {
   "codemirror_mode": {
    "name": "ipython",
    "version": 3
   },
   "file_extension": ".py",
   "mimetype": "text/x-python",
   "name": "python",
   "nbconvert_exporter": "python",
   "pygments_lexer": "ipython3",
   "version": "3.12.0"
  }
 },
 "nbformat": 4,
 "nbformat_minor": 2
}
