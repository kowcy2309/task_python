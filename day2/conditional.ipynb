{
 "cells": [
  {
   "cell_type": "code",
   "execution_count": 8,
   "metadata": {},
   "outputs": [
    {
     "name": "stdout",
     "output_type": "stream",
     "text": [
      "adults\n"
     ]
    }
   ],
   "source": [
    "age=int(input(\"enter the number\"))\n",
    "if age>=18:\n",
    "    print(\"students\")\n",
    "elif age<=25:\n",
    "    print(\"adults\")\n",
    "else:\n",
    "    print(\"not known\")"
   ]
  },
  {
   "cell_type": "code",
   "execution_count": 9,
   "metadata": {},
   "outputs": [
    {
     "name": "stdout",
     "output_type": "stream",
     "text": [
      "both the names are unique\n"
     ]
    }
   ],
   "source": [
    "a=input(\"Enter the number\")\n",
    "b=input(\"Enter the number\")\n",
    "if a==b:\n",
    "    if len(a)==3:\n",
    "        print(\"yes name is correct\")\n",
    "    else:\n",
    "        print(\"enter the valid name\")\n",
    "elif len(a)>len(b):\n",
    "    \n",
    "    print(\"user a has valid name\")\n",
    "else:\n",
    "    print(\"both the names are unique\")"
   ]
  },
  {
   "cell_type": "code",
   "execution_count": 18,
   "metadata": {},
   "outputs": [
    {
     "name": "stdout",
     "output_type": "stream",
     "text": [
      "name length is too low\n"
     ]
    }
   ],
   "source": [
    "a=input(\"Enter the name\")\n",
    "if len(a)>15:\n",
    "    print(\"name is too length\")\n",
    "elif len(a)>10:\n",
    "    print(\"name length medium is correct\")\n",
    "elif len(a)==15:\n",
    "    print(\"name length is correct\")\n",
    "elif len(a)<5:\n",
    "    print(\"name length is too low\")\n",
    "else:\n",
    "    print(\"enter the valid name\")\n"
   ]
  },
  {
   "cell_type": "code",
   "execution_count": 21,
   "metadata": {},
   "outputs": [
    {
     "name": "stdout",
     "output_type": "stream",
     "text": [
      "You have no disease\n"
     ]
    }
   ],
   "source": [
    "disease=input(\"Are u having disease\")\n",
    "if disease==\"corona\":\n",
    "    symptoms=input(\"enter the corona symptoms\")\n",
    "    if symptoms==\"fever\":\n",
    "        print(\"Take paracetamol 1\")\n",
    "    elif symptoms==\"cold\":\n",
    "        print(\"Take one parcetomal and 1 citrizine\")\n",
    "    else:\n",
    "        print(\"Take a deep sleep for 5 hrs\")\n",
    "    print(\"You have confirmed with corona\")\n",
    "elif disease==\"kidney_stone\":\n",
    "        symptoms=input(\"enter the kidney_stone symptoms\")\n",
    "        if symptoms==\"fever\":\n",
    "             print(\"Take one operation\")\n",
    "        else:\n",
    "             print(\"drink more water\")\n",
    "        print(\"you have confirmed with kidney stone\")\n",
    "\n",
    "else:\n",
    "     print(\"You have no disease\")\n",
    "\n",
    "\n"
   ]
  },
  {
   "cell_type": "code",
   "execution_count": null,
   "metadata": {},
   "outputs": [],
   "source": [
    "season=input(\"Enter which drink you prefer\")\n",
    "if season==\"summer\":\n",
    "    cold_drinks=input(\"Enter the cold_drinks you prefer\")\n",
    "    if cold_drinks==\"orange juice\":\n",
    "        print(\"orange juice is 60 Rs\")\n",
    "    elif "
   ]
  }
 ],
 "metadata": {
  "kernelspec": {
   "display_name": "venv",
   "language": "python",
   "name": "python3"
  },
  "language_info": {
   "codemirror_mode": {
    "name": "ipython",
    "version": 3
   },
   "file_extension": ".py",
   "mimetype": "text/x-python",
   "name": "python",
   "nbconvert_exporter": "python",
   "pygments_lexer": "ipython3",
   "version": "3.12.0"
  }
 },
 "nbformat": 4,
 "nbformat_minor": 2
}
