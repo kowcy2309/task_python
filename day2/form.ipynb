{
 "cells": [
  {
   "cell_type": "code",
   "execution_count": 4,
   "metadata": {},
   "outputs": [
    {
     "name": "stdout",
     "output_type": "stream",
     "text": [
      "1.doctor_appoinment_form\n",
      "2.gym_form\n",
      "3.yoga_form\n",
      "4.User\n",
      "5.College\n"
     ]
    },
    {
     "ename": "ValueError",
     "evalue": "invalid literal for int() with base 10: ''",
     "output_type": "error",
     "traceback": [
      "\u001b[1;31m---------------------------------------------------------------------------\u001b[0m",
      "\u001b[1;31mValueError\u001b[0m                                Traceback (most recent call last)",
      "Cell \u001b[1;32mIn[4], line 11\u001b[0m\n\u001b[0;32m      8\u001b[0m select\u001b[38;5;241m=\u001b[39m\u001b[38;5;28mint\u001b[39m(\u001b[38;5;28minput\u001b[39m(\u001b[38;5;124m\"\u001b[39m\u001b[38;5;124mEnter the number:\u001b[39m\u001b[38;5;124m\"\u001b[39m))\n\u001b[0;32m     10\u001b[0m \u001b[38;5;28;01mif\u001b[39;00m select\u001b[38;5;241m==\u001b[39m\u001b[38;5;241m1\u001b[39m:\n\u001b[1;32m---> 11\u001b[0m     \u001b[43mdoctor_appoinment_form\u001b[49m\u001b[43m(\u001b[49m\u001b[43m)\u001b[49m\n\u001b[0;32m     12\u001b[0m     \u001b[38;5;66;03m# print(doc)\u001b[39;00m\n\u001b[0;32m     13\u001b[0m \u001b[38;5;28;01melif\u001b[39;00m select\u001b[38;5;241m==\u001b[39m\u001b[38;5;241m2\u001b[39m:\n",
      "File \u001b[1;32mc:\\Users\\KOWSALYA M\\Desktop\\python\\day2\\form.py:3\u001b[0m, in \u001b[0;36mdoctor_appoinment_form\u001b[1;34m()\u001b[0m\n\u001b[0;32m      0\u001b[0m <Error retrieving source code with stack_data see ipython/ipython#13598>\n",
      "\u001b[1;31mValueError\u001b[0m: invalid literal for int() with base 10: ''"
     ]
    }
   ],
   "source": [
    "from form import *\n",
    "print(\"1.doctor_appoinment_form\")\n",
    "print(\"2.gym_form\")\n",
    "print(\"3.yoga_form\")\n",
    "print(\"4.User\")\n",
    "print(\"5.College\")\n",
    "\n",
    "select=int(input(\"Enter the number:\"))\n",
    "\n",
    "if select==1:\n",
    "    doctor_appoinment_form()\n",
    "    # print(doc)\n",
    "elif select==2:\n",
    "    gym_form()\n",
    "    # print(gym)\n",
    "elif select==3:\n",
    "    yoga_form()\n",
    "    # print(yoga)\n",
    "elif select==4:\n",
    "    User()\n",
    "    # print(user)\n",
    "elif select==5:\n",
    "    College()\n",
    "    # print(college)\n",
    "else:\n",
    "    print(\"Enter the valid number\")\n",
    "\n",
    "\n",
    "\n"
   ]
  },
  {
   "cell_type": "code",
   "execution_count": null,
   "metadata": {},
   "outputs": [],
   "source": []
  }
 ],
 "metadata": {
  "kernelspec": {
   "display_name": "venv",
   "language": "python",
   "name": "python3"
  },
  "language_info": {
   "codemirror_mode": {
    "name": "ipython",
    "version": 3
   },
   "file_extension": ".py",
   "mimetype": "text/x-python",
   "name": "python",
   "nbconvert_exporter": "python",
   "pygments_lexer": "ipython3",
   "version": "3.12.0"
  }
 },
 "nbformat": 4,
 "nbformat_minor": 2
}
