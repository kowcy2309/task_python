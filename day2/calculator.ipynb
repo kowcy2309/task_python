{
 "cells": [
  {
   "cell_type": "code",
   "execution_count": 2,
   "metadata": {},
   "outputs": [
    {
     "name": "stdout",
     "output_type": "stream",
     "text": [
      "1.addition\n",
      "2.subtraction\n",
      "3.multiply\n",
      "4.division\n",
      "5.percentage\n",
      "select the div\n"
     ]
    }
   ],
   "source": [
    "from task import *\n",
    "\n",
    "print(\"1.addition\")\n",
    "print(\"2.subtraction\")\n",
    "print(\"3.multiply\")\n",
    "print(\"4.division\")\n",
    "print(\"5.percentage\")\n",
    "num=input(\"Enter the nos\")\n",
    "print(\"select the\",num)\n",
    "a=int(input(\"Enter a value\"))\n",
    "b=int(input(\"Enter b value\"))\n",
    "print(\"a value\",a,\"b value\",b)\n",
    "\n",
    "if num=='add':\n",
    "    add=addition(a,b)\n",
    "    print(\"addition of two nos\",add)\n",
    "\n",
    "elif num=='sub':\n",
    "    sub=subtraction(a,b)\n",
    "    print(\"subtraction of two nos\", sub)\n",
    "\n",
    "elif num=='mul':\n",
    "    mul=multiply(a,b)\n",
    "    print(\"mul of two nos\",mul)\n",
    "\n",
    "elif num=='div':\n",
    "    div=division(a,b)\n",
    "    print(div)\n",
    "\n",
    "elif num=='per':\n",
    "    per=percentage(a,b)\n",
    "    print(per)\n",
    "\n",
    "else:\n",
    "    print(\"Enter the valid details\")"
   ]
  },
  {
   "cell_type": "code",
   "execution_count": null,
   "metadata": {},
   "outputs": [],
   "source": []
  }
 ],
 "metadata": {
  "kernelspec": {
   "display_name": "venv",
   "language": "python",
   "name": "python3"
  },
  "language_info": {
   "codemirror_mode": {
    "name": "ipython",
    "version": 3
   },
   "file_extension": ".py",
   "mimetype": "text/x-python",
   "name": "python",
   "nbconvert_exporter": "python",
   "pygments_lexer": "ipython3",
   "version": "3.12.0"
  }
 },
 "nbformat": 4,
 "nbformat_minor": 2
}
