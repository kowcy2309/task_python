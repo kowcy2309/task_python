{
 "cells": [
  {
   "cell_type": "code",
   "execution_count": 13,
   "metadata": {},
   "outputs": [
    {
     "name": "stdout",
     "output_type": "stream",
     "text": [
      "kowsalya\n"
     ]
    }
   ],
   "source": [
    "\n",
    "from mod import *\n",
    "print(name)"
   ]
  },
  {
   "cell_type": "code",
   "execution_count": 14,
   "metadata": {},
   "outputs": [
    {
     "data": {
      "text/plain": [
       "'rent is too high'"
      ]
     },
     "execution_count": 14,
     "metadata": {},
     "output_type": "execute_result"
    }
   ],
   "source": [
    "import mod\n",
    "mod.number(6,8)\n",
    "mod.houserent(100000)\n",
    "\n"
   ]
  },
  {
   "cell_type": "code",
   "execution_count": 15,
   "metadata": {},
   "outputs": [
    {
     "name": "stdout",
     "output_type": "stream",
     "text": [
      " rent details\n"
     ]
    }
   ],
   "source": [
    "print(mod.houserent.__doc__)"
   ]
  },
  {
   "cell_type": "code",
   "execution_count": 16,
   "metadata": {},
   "outputs": [
    {
     "name": "stdout",
     "output_type": "stream",
     "text": [
      "hello world\n"
     ]
    }
   ],
   "source": [
    "print(mod.__doc__)"
   ]
  },
  {
   "cell_type": "code",
   "execution_count": 17,
   "metadata": {},
   "outputs": [
    {
     "data": {
      "text/plain": [
       "9"
      ]
     },
     "execution_count": 17,
     "metadata": {},
     "output_type": "execute_result"
    }
   ],
   "source": [
    "def hai():\n",
    "    if True:\n",
    "        return 9\n",
    "    \n",
    "hai()\n"
   ]
  },
  {
   "cell_type": "code",
   "execution_count": 18,
   "metadata": {},
   "outputs": [
    {
     "data": {
      "text/plain": [
       "-1"
      ]
     },
     "execution_count": 18,
     "metadata": {},
     "output_type": "execute_result"
    }
   ],
   "source": [
    "def Hello(a,b):\n",
    "    if a==b:\n",
    "        return a*b\n",
    "    else:\n",
    "        return (a-b)\n",
    "Hello(7,8)"
   ]
  },
  {
   "cell_type": "code",
   "execution_count": 25,
   "metadata": {},
   "outputs": [
    {
     "name": "stdout",
     "output_type": "stream",
     "text": [
      "my name is kowsalya and loc is neyveli\n"
     ]
    }
   ],
   "source": [
    "def work(name,loc):\n",
    "    print(f\"my name is {name} and loc is {loc}\")\n",
    "work(loc=\"neyveli\",name=\"kowsalya\")\n",
    "\n"
   ]
  },
  {
   "cell_type": "code",
   "execution_count": 27,
   "metadata": {},
   "outputs": [
    {
     "name": "stdout",
     "output_type": "stream",
     "text": [
      "name: kowsy\n",
      "name: jaya\n",
      "name: kani\n"
     ]
    }
   ],
   "source": [
    "def work(*name):\n",
    "    for i in name:\n",
    "        print(\"name:\",i)\n",
    "work(\"kowsy\",\"jaya\",\"kani\")"
   ]
  },
  {
   "cell_type": "code",
   "execution_count": 29,
   "metadata": {},
   "outputs": [
    {
     "name": "stdout",
     "output_type": "stream",
     "text": [
      "name : kowsalya\n",
      "age : 24\n",
      "location : Neyveli\n",
      "email : mkowsalya098@gmail.com\n",
      "working : yes\n",
      "course : py,ml\n",
      "percentage : 78.3\n",
      "sports : football\n",
      "food : lemon rice\n",
      "salary : 10000\n"
     ]
    }
   ],
   "source": [
    "dict1={\"name\":\"kowsalya\",\"age\":24,\"location\":\"Neyveli\",\n",
    "\"email\":\"mkowsalya098@gmail.com\",\n",
    "\"working\":\"yes\",\n",
    "\"course\":\"py,ml\",\n",
    "\"percentage\":78.3,\n",
    "\"sports\":\"football\",\n",
    "\"food\":\"lemon rice\",\n",
    "\"salary\":10000}\n",
    "for i in dict1:\n",
    "    print(i,\":\",dict1[i])\n",
    "    "
   ]
  },
  {
   "cell_type": "code",
   "execution_count": 30,
   "metadata": {},
   "outputs": [
    {
     "name": "stdout",
     "output_type": "stream",
     "text": [
      "['kowsy', 'jaya', 'kani', 9, 8, 7, 7, 5, 3, 'kalai', 'kaviya', 2]\n"
     ]
    }
   ],
   "source": [
    "list=[\"kowsy\",\"jaya\",\"kani\",9,8,7,7,5,3,\"kalai\",\"kaviya\"]\n",
    "list.append(2)\n",
    "print(list)"
   ]
  },
  {
   "cell_type": "code",
   "execution_count": null,
   "metadata": {},
   "outputs": [],
   "source": []
  }
 ],
 "metadata": {
  "kernelspec": {
   "display_name": "venv",
   "language": "python",
   "name": "python3"
  },
  "language_info": {
   "codemirror_mode": {
    "name": "ipython",
    "version": 3
   },
   "file_extension": ".py",
   "mimetype": "text/x-python",
   "name": "python",
   "nbconvert_exporter": "python",
   "pygments_lexer": "ipython3",
   "version": "3.12.0"
  }
 },
 "nbformat": 4,
 "nbformat_minor": 2
}
